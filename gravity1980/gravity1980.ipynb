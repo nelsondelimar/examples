{
 "cells": [
  {
   "cell_type": "markdown",
   "metadata": {},
   "source": [
    "##  Normal Gravity calculation"
   ]
  },
  {
   "cell_type": "markdown",
   "metadata": {},
   "source": [
    "** All formulas for calculating the value for the normal gravity distribution is based on the assumption that the Earth is closed to an ellipsoid, which is identical to an equipotential surface. This formulas depends only on the values for latitude and value for elevation/topography at the location (calculation point).**\n",
    "\n",
    "** The Somigliana Formula computes the value for the normal gravity $\\gamma_0$ of the sea level on the ellipsoid, and can be written as:**\n",
    "\n",
    "$$\n",
    "\\gamma_0(\\varphi) = \\dfrac{\\alpha \\cdot \\gamma_{\\alpha} \\cdot \\cos^2(\\varphi) + \\beta \\cdot \\gamma_{\\beta}\\cdot \\sin^2(\\varphi)}\n",
    "{\\sqrt{\\alpha^2 \\cdot \\cos^2(\\varphi) + \\beta^2 \\cdot \\cdot \\sin^2(\\varphi)}}\n",
    "$$\n",
    "\n",
    "* $\\gamma_{\\alpha} \\,\\,$ ** represents the normal gravity value at Equator;**\n",
    "* $\\gamma_{\\beta} \\,\\,$ ** represents the normal gravity value at Poles;**\n",
    "* $\\alpha \\,\\, \\,\\,$ ** is the semi-major axis (Equator radius);**\n",
    "* $\\beta \\,\\, \\,\\,$ ** is the semi-minor axis (Pole radius);**\n",
    "* $\\varphi \\,\\, \\,$ ** is the value for latitude.**\n",
    "\n",
    "\n",
    "** Using a series approximation, we can compute the normal gravity value at a geographic location using the formula below:** \n",
    "\n",
    "$$ \\gamma_0(\\varphi) = \\gamma_{\\alpha} \\cdot (1 + \\beta \\cdot \\sin^2(\\varphi) + \\beta_1 \\cdot \\sin^2(2 \\varphi) + \\dots)$$\n",
    "\n",
    "** The most recent computation for $\\beta$ and $\\beta_1$ was determined by the *International Union of Geodesy and Geophysics* and it is known as *International Gravity Formula*. For the 1980 formula, the parameters values are:\n",
    "* $\\gamma_{\\alpha} = 978032.7$;\n",
    "* $\\beta =  0.0053024$; \n",
    "* $\\beta_1 = -0.0000058$."
   ]
  },
  {
   "cell_type": "code",
   "execution_count": null,
   "metadata": {
    "collapsed": true
   },
   "outputs": [],
   "source": [
    "# Import all usefull libraries\n",
    "import numpy as np\n",
    "import matplotlib.pyplot as plt\n",
    "from matplotlib.patches import Polygon\n",
    "from mpl_toolkits.basemap import Basemap"
   ]
  },
  {
   "cell_type": "code",
   "execution_count": null,
   "metadata": {
    "collapsed": true
   },
   "outputs": [],
   "source": [
    "# Define:\n",
    "# 1 - Number of points\n",
    "# 2 - Values for longitude (degrees)\n",
    "# 3 - Values for latitute (degrees)\n",
    "x = np.arange(-180,181,1)\n",
    "y = np.arange(-90,91,1)\n",
    "# Create the meshgrid\n",
    "X, Y = np.meshgrid(x, y)"
   ]
  },
  {
   "cell_type": "code",
   "execution_count": null,
   "metadata": {
    "collapsed": true
   },
   "outputs": [],
   "source": [
    "# Some constants\n",
    "gamma0 = 978032.7\n",
    "beta1 = 0.0053024\n",
    "beta2 = -0.0000058\n",
    "# Compute the constants for the sin values used in the calculation\n",
    "sin = np.sin(np.deg2rad(Y))\n",
    "sin2 = np.sin(np.deg2rad(2*Y))\n",
    "# Compute the international gravity formula\n",
    "gamma1980 = gamma0 * (1 + beta1 * (sin**2) + beta2 * (sin2**2))"
   ]
  },
  {
   "cell_type": "code",
   "execution_count": null,
   "metadata": {},
   "outputs": [],
   "source": [
    "# Plot all values for theoretical gravity\n",
    "plt.figure(figsize = (12, 10))\n",
    "plt.title('Theoretical gravity - 1980 formula', fontsize = 24)\n",
    "plt.contourf(X, Y, gamma1980, 100, cmap = plt.cm.jet)\n",
    "plt.xlabel('Longitude', fontsize = 16)\n",
    "plt.ylabel('Latitute', fontsize = 16)\n",
    "plt.xticks(fontsize = 14)\n",
    "plt.yticks(fontsize = 14)\n",
    "plt.colorbar()\n",
    "plt.savefig('gravity1980_contour.png')\n",
    "plt.show()"
   ]
  },
  {
   "cell_type": "code",
   "execution_count": null,
   "metadata": {},
   "outputs": [],
   "source": [
    "# Ploting the values on the theoretical Earth\n",
    "plt.figure(figsize=(20,12))\n",
    "m = Basemap(projection='robin', lon_0=0., resolution='c')\n",
    "m.drawcoastlines()\n",
    "m.drawparallels(np.arange(-90.,90.,30.))\n",
    "m.drawmeridians(np.arange(-180.,180.,60.))\n",
    "m.contourf(X, Y, gamma1980, cmap='RdBu_r')\n",
    "#CS1 = m.contour(X, Y, gamma1980, 10, linewidths=0.5, colors='k', latlon=True)\n",
    "CS2 = m.contourf(X, Y, gamma1980, 100, cmap=plt.cm.jet, extend='both', latlon=True)\n",
    "cb = m.colorbar()\n",
    "cb.set_label('mGal', fontsize = 15)\n",
    "plt.title('Theoretical gravity - 1980 formula', fontsize = 25)\n",
    "plt.savefig('grav1980_globe.png', bbox_inches='tight',dpi=500)\n",
    "plt.show()"
   ]
  }
 ],
 "metadata": {
  "kernelspec": {
   "display_name": "Python 2",
   "language": "python",
   "name": "python2"
  },
  "language_info": {
   "codemirror_mode": {
    "name": "ipython",
    "version": 2
   },
   "file_extension": ".py",
   "mimetype": "text/x-python",
   "name": "python",
   "nbconvert_exporter": "python",
   "pygments_lexer": "ipython2",
   "version": "2.7.13"
  }
 },
 "nbformat": 4,
 "nbformat_minor": 2
}
