{
 "cells": [
  {
   "cell_type": "markdown",
   "metadata": {
    "collapsed": true
   },
   "source": [
    "Neste notebook, utilizaremos um perfil sintético de perfilagem de poço, contendo informações a respeito de:\n",
    "* profundidade de medida;\n",
    "* valor raio gama;\n",
    "* valor de resistividade;\n",
    "* valor de tempo de trânsito.\n",
    "\n",
    "A partir desses valores, iremos calcular os valores de *argilosidade*, *porosidade* e *saturação de fluido*, assumindo que existe uma camada reservatório.\n",
    "\n",
    "Para cálculo da argilosidade, utilizaremos o **Método do Raio Gama Natural**; para o cálculo da porosidade, utilizaremos o **Método de Wyllie**; e por fim, para o cálculo e interpretação da saturação de fluido, utilizaremos o **Método de Archie**."
   ]
  },
  {
   "cell_type": "code",
   "execution_count": null,
   "metadata": {
    "collapsed": true
   },
   "outputs": [],
   "source": [
    "# Importando os comandos necessários\n",
    "import numpy as np\n",
    "import matplotlib.pyplot as plt"
   ]
  },
  {
   "cell_type": "code",
   "execution_count": null,
   "metadata": {
    "collapsed": true
   },
   "outputs": [],
   "source": [
    "# Carregando o dado sintético\n",
    "logprofile = np.loadtxt('log_profile.txt', skiprows=1, usecols=(0,1,2,3))"
   ]
  },
  {
   "cell_type": "code",
   "execution_count": null,
   "metadata": {},
   "outputs": [],
   "source": [
    "# Imprimindo o dado carregado\n",
    "print logprofile"
   ]
  },
  {
   "cell_type": "code",
   "execution_count": null,
   "metadata": {
    "collapsed": true
   },
   "outputs": [],
   "source": [
    "# Assumindo os valores das colunas referentes aos dados\n",
    "depth = logprofile[:,0]\n",
    "gammaray = logprofile[:,1]\n",
    "resist = logprofile[:,2]\n",
    "dtime = logprofile[:,3]"
   ]
  },
  {
   "cell_type": "code",
   "execution_count": null,
   "metadata": {},
   "outputs": [],
   "source": [
    "# Imprime o perfil de raio gama\n",
    "plt.figure(figsize=(4,12))\n",
    "plt.title('Gamma ray (api)', fontsize = 20)\n",
    "plt.plot(gammaray, depth, 'k-')\n",
    "plt.xlabel('API value', fontsize = 18)\n",
    "plt.ylabel('Depth', fontsize = 18)\n",
    "plt.ylim(depth[-1], depth[0])\n",
    "plt.savefig('gammaray.png')\n",
    "plt.show()"
   ]
  },
  {
   "cell_type": "code",
   "execution_count": null,
   "metadata": {},
   "outputs": [],
   "source": [
    "# Imprime o perfil de resistividade\n",
    "plt.figure(figsize=(4,12))\n",
    "plt.title('Resistivity ($\\Omega \\, m$)', fontsize = 20)\n",
    "plt.plot(np.log(resist), depth, 'r-')\n",
    "plt.xlabel('$\\Omega.m$', fontsize = 18)\n",
    "plt.ylabel('Depth (m)', fontsize = 18)\n",
    "plt.ylim(depth[-1], depth[0])\n",
    "plt.savefig('resistivity.png')\n",
    "plt.show()"
   ]
  },
  {
   "cell_type": "code",
   "execution_count": null,
   "metadata": {},
   "outputs": [],
   "source": [
    "# Imprime o perfil sônico\n",
    "plt.figure(figsize=(4,12))\n",
    "plt.title('Time difference (ms)', fontsize = 20)\n",
    "plt.plot(dtime, depth, 'b-')\n",
    "plt.xlabel('$\\Delta t$', fontsize = 18)\n",
    "plt.ylabel('Depth (m)', fontsize = 18)\n",
    "plt.ylim(depth[-1], depth[0])\n",
    "plt.savefig('dtime.png')\n",
    "plt.show()"
   ]
  },
  {
   "cell_type": "markdown",
   "metadata": {},
   "source": [
    "#### Parte 1 - Cálculo da argilosidade\n",
    "\n",
    "O procedimento do cálculo da argilosidade através do método do raio gama natural foi realizado do seguinte modo: foram escolhidos os valores de raio gama medidos e introduzidos na equação abaixo. \n",
    "\n",
    "$$V_{sh} = \\dfrac{RG - RG_{m}}{RG_M - RG_m}$$\n",
    "\n",
    "Esta equação nos dá o volume de argila em cada camada (ou em cada ponto de profundidade $z$), sendo $RG_{max}$ e $RG_{min}$ os valores correspondentes aos maiores e menores valores do perfil, respectivamente."
   ]
  },
  {
   "cell_type": "code",
   "execution_count": null,
   "metadata": {},
   "outputs": [],
   "source": [
    "# Calculo da argilosidade\n",
    "clay_value = (gammaray - np.min(gammaray))/(np.max(gammaray) - np.min(gammaray))\n",
    "\n",
    "plt.figure(figsize=(4,12))\n",
    "plt.title('Clay measure', fontsize = 20)\n",
    "plt.plot(clay_value, depth, 'k--')\n",
    "plt.xlabel('Clay value', fontsize = 18)\n",
    "plt.ylabel('Depth (m)', fontsize = 18)\n",
    "plt.ylim(depth[-1], depth[0])\n",
    "plt.savefig('clay_value.png')\n",
    "plt.show()"
   ]
  },
  {
   "cell_type": "markdown",
   "metadata": {},
   "source": [
    "Os valores de RG max e RG min servirão para o cálculo da porosidade. Para isso, é necessário calcular a média dos tempos de trânsito dos valores utilizados para o cálculo do RG max.\n",
    "\n",
    "Para cálculo da porosidade através do método de Wyllie, utilizamos $\\Delta t$ e $V_{sh}$ na equação abaixo:\n",
    "\n",
    "$$\\phi = \\dfrac{\\Delta T - \\Delta T_m}{\\Delta T_w - \\Delta T_m} \n",
    "- V_{sh} \\, \\dfrac{\\Delta T_{sh} - \\Delta T_m}{\\Delta T_w - \\Delta T_m}$$\n",
    "\n",
    "onde $\\Delta t_m$ é o tempo de trânsito da matriz (que possui o valor padrão de 55 μs/ft), e $\\Delta t_w$ o tempo de trânsito para uma camada de água, (com valor padrão de 189 μs/ft)."
   ]
  },
  {
   "cell_type": "code",
   "execution_count": null,
   "metadata": {
    "collapsed": true
   },
   "outputs": [],
   "source": [
    "# Calculo da porosidade\n",
    "part1 = (dtime - 55.)/(189. - 55.)\n",
    "part2 = (dtime - 55.)/(189. - 55.)\n",
    "porosity = part1 - clay_value*part2"
   ]
  },
  {
   "cell_type": "code",
   "execution_count": null,
   "metadata": {},
   "outputs": [],
   "source": [
    "# Imprime o perfil resultante\n",
    "plt.figure(figsize=(4,12))\n",
    "plt.title('Porosity value (%)', fontsize = 20)\n",
    "plt.plot(porosity, depth, 'b-')\n",
    "plt.xlabel('$%$', fontsize = 18)\n",
    "plt.ylabel('Depth (m)', fontsize = 18)\n",
    "plt.ylim(depth[-1], depth[0])\n",
    "plt.savefig('porosity.png')\n",
    "plt.show()"
   ]
  }
 ],
 "metadata": {
  "kernelspec": {
   "display_name": "Python 2",
   "language": "python",
   "name": "python2"
  },
  "language_info": {
   "codemirror_mode": {
    "name": "ipython",
    "version": 2
   },
   "file_extension": ".py",
   "mimetype": "text/x-python",
   "name": "python",
   "nbconvert_exporter": "python",
   "pygments_lexer": "ipython2",
   "version": "2.7.13"
  }
 },
 "nbformat": 4,
 "nbformat_minor": 2
}
