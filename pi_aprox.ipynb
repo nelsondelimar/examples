{
 "cells": [
  {
   "cell_type": "markdown",
   "metadata": {},
   "source": [
    "#### Here, we will calculate the value for number pi ($\\pi$). This value can be obtained as a simple serie approximation, which is given by:\n",
    "#### $$\\pi = 4 \\, \\sum_{k=1}^{\\infty} = \\dfrac{(-1)^{k+1}}{2k - 1}$$\n",
    "#### This formulation was discovered by Gregory and Leibniz, which is known as the Gregory series and may be obtained by plugging $x = 1$ into the Leibniz series for $\\arctan\\,(x)$."
   ]
  },
  {
   "cell_type": "code",
   "execution_count": null,
   "metadata": {
    "collapsed": true
   },
   "outputs": [],
   "source": [
    "# Usefull libraries\n",
    "import numpy as np\n",
    "import matplotlib.pyplot as plt"
   ]
  },
  {
   "cell_type": "code",
   "execution_count": null,
   "metadata": {},
   "outputs": [],
   "source": [
    "# Choice of N value for the series\n",
    "N = input('Choose a number for calculate the number pi as a series approximation: ')"
   ]
  },
  {
   "cell_type": "code",
   "execution_count": null,
   "metadata": {
    "collapsed": true
   },
   "outputs": [],
   "source": [
    "# Conditions \n",
    "assert N != 0., 'N must be greater than zero!'\n",
    "assert N >= 0., 'N must be greater than zero!'\n",
    "assert type(N) == int, 'Type of N must be integer'\n",
    "if N <= 0:\n",
    "    print 'Error! The number N must be greater than zero.'"
   ]
  },
  {
   "cell_type": "code",
   "execution_count": null,
   "metadata": {},
   "outputs": [],
   "source": [
    "# Define the number of terms\n",
    "number = np.arange(1,N+1)"
   ]
  },
  {
   "cell_type": "code",
   "execution_count": null,
   "metadata": {},
   "outputs": [],
   "source": [
    "# Calculation for the value of pi\n",
    "S = np.zeros(N)\n",
    "for i in range(N):\n",
    "    si = (-1.)**(number[i] + 1)/(2.*number[i] - 1)\n",
    "    S[i] = S[i-1] + si"
   ]
  },
  {
   "cell_type": "code",
   "execution_count": null,
   "metadata": {
    "collapsed": true
   },
   "outputs": [],
   "source": [
    "# My result and creation for PI as a row vector\n",
    "pi = 4*S\n",
    "PI = np.pi*np.ones(N)"
   ]
  },
  {
   "cell_type": "code",
   "execution_count": null,
   "metadata": {},
   "outputs": [],
   "source": [
    "#print '1) Pi value obtained using numpy library: ', np.pi\n",
    "#print\n",
    "#print '2) Pi value obtained using approximation: '\n",
    "#print pi\n",
    "#print\n",
    "#print 'The calculated error between the values : '\n",
    "#print (np.pi - pi)"
   ]
  },
  {
   "cell_type": "code",
   "execution_count": null,
   "metadata": {},
   "outputs": [],
   "source": [
    "# Plot all aproximations\n",
    "plt.figure(figsize=(10,6))\n",
    "plt.title('Calculated $\\pi$ as an approximation', fontsize = 18)\n",
    "plt.plot(number, pi, 'k-')\n",
    "plt.plot(number, PI, 'r.')\n",
    "plt.xlabel('Number of terms for $\\pi$ series', fontsize = 16)\n",
    "plt.ylabel('Value of $\\pi$', fontsize = 16)\n",
    "plt.legend('best')\n",
    "plt.show()"
   ]
  },
  {
   "cell_type": "markdown",
   "metadata": {},
   "source": [
    "**Test 2 - N as a vector**"
   ]
  },
  {
   "cell_type": "code",
   "execution_count": null,
   "metadata": {},
   "outputs": [],
   "source": [
    "# Choice of N value for the series\n",
    "N = input('Choose a number for calculate the number pi as a series approximation: ')"
   ]
  },
  {
   "cell_type": "code",
   "execution_count": null,
   "metadata": {
    "collapsed": true
   },
   "outputs": [],
   "source": [
    "# Define the number of terms\n",
    "number = np.arange(1,N+1)"
   ]
  },
  {
   "cell_type": "code",
   "execution_count": null,
   "metadata": {},
   "outputs": [],
   "source": [
    "# Conditions\n",
    "assert number.all() != 0., 'N must be greater than zero!'\n",
    "assert number.all() >= 0., 'N must be greater than zero!'\n",
    "\n",
    "if number.all() <= 0:\n",
    "    print 'Error! The number N must be greater than zero.'"
   ]
  },
  {
   "cell_type": "code",
   "execution_count": null,
   "metadata": {
    "collapsed": true
   },
   "outputs": [],
   "source": [
    "# Calculation for the value of pi\n",
    "S = np.zeros(N)\n",
    "for i in range(N):\n",
    "    si = (-1.)**(number[i] + 1)/(2.*number[i] - 1)\n",
    "    S[i] = S[i-1] + si"
   ]
  },
  {
   "cell_type": "code",
   "execution_count": null,
   "metadata": {
    "collapsed": true
   },
   "outputs": [],
   "source": [
    "# Plot all aproximations\n",
    "plt.figure(figsize=(10,6))\n",
    "plt.title('Calculated $\\pi$ as an approximation', fontsize = 18)\n",
    "plt.plot(number, pi, 'k-')\n",
    "plt.plot(number, PI, 'r.')\n",
    "plt.xlabel('Number of terms for $\\pi$ series', fontsize = 16)\n",
    "plt.ylabel('Value of $\\pi$', fontsize = 16)\n",
    "plt.legend('best')\n",
    "plt.show()"
   ]
  }
 ],
 "metadata": {
  "kernelspec": {
   "display_name": "Python 2",
   "language": "python",
   "name": "python2"
  },
  "language_info": {
   "codemirror_mode": {
    "name": "ipython",
    "version": 2
   },
   "file_extension": ".py",
   "mimetype": "text/x-python",
   "name": "python",
   "nbconvert_exporter": "python",
   "pygments_lexer": "ipython2",
   "version": "2.7.13"
  }
 },
 "nbformat": 4,
 "nbformat_minor": 2
}
